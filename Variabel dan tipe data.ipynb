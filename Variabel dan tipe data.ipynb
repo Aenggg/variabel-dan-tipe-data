{
 "cells": [
  {
   "cell_type": "markdown",
   "id": "b9d9bb5f",
   "metadata": {},
   "source": [
    "<h1>Variabel dan Tipe Data Pyton</h1><hr>\n",
    "    <font color =\"orange\">Beberapa</font> aturan pembuatan variabel di <b>pyton</b>:\n",
    "    \n",
    "    "
   ]
  },
  {
   "cell_type": "markdown",
   "id": "8f928234",
   "metadata": {},
   "source": [
    "<ol>\n",
    "    <li>Besifat case sensitif => A !</li>\n",
    "    <li>harus diawali dengan huruf atau karakter _(underscore)</li>\n",
    "    <li>tidak boleh menggunakn spasi</li>\n",
    "    <li>Boleh menggunakan angka</li>\n",
    "</ol>\n"
   ]
  },
  {
   "cell_type": "code",
   "execution_count": 30,
   "id": "d60fb00d",
   "metadata": {},
   "outputs": [
    {
     "name": "stdout",
     "output_type": "stream",
     "text": [
      "100\n",
      "10000.9\n",
      "100\n",
      "True\n"
     ]
    }
   ],
   "source": [
    "data_int =100\n",
    "data_float =10000.9\n",
    "data_string = '100'\n",
    "data_bool = True\n",
    "\n",
    "\n",
    "print(data_int)\n",
    "print(data_float)\n",
    "print(data_string)\n",
    "print(data_bool)\n"
   ]
  },
  {
   "cell_type": "markdown",
   "id": "7717b6a1",
   "metadata": {},
   "source": [
    "Untuk mengetahui tipe data dari sebuah Variabel gunakan command <b>type</b>\n",
    "    "
   ]
  },
  {
   "cell_type": "code",
   "execution_count": 31,
   "id": "ffcfea28",
   "metadata": {},
   "outputs": [
    {
     "name": "stdout",
     "output_type": "stream",
     "text": [
      "<class 'int'>\n",
      "<class 'float'>\n",
      "<class 'str'>\n",
      "<class 'bool'>\n"
     ]
    }
   ],
   "source": [
    "print(type(data_int))\n",
    "print(type(data_float))\n",
    "print(type(data_string))\n",
    "print(type(data_bool))\n"
   ]
  },
  {
   "cell_type": "markdown",
   "id": "c43b5de3",
   "metadata": {},
   "source": [
    "Pada python terdapat proses <b>CASTING</b> yaitu konversi dari sebuah tipe data \n",
    "ke tipe data yang lain yaitu sintaks <b>tipe_data(nama_variabel)"
   ]
  },
  {
   "cell_type": "code",
   "execution_count": 33,
   "id": "bfd06cc6",
   "metadata": {},
   "outputs": [
    {
     "name": "stdout",
     "output_type": "stream",
     "text": [
      "Nilai variabel data_int= 100\n",
      "100.0\n",
      "100\n",
      "True\n"
     ]
    }
   ],
   "source": [
    "int_to_float =float (data_int)\n",
    "int_to_string =str(data_string)\n",
    "int_to_bool = bool(data_int)\n",
    "\n",
    "print(\"Nilai variabel data_int=\", data_int)\n",
    "print(int_to_float)\n",
    "print(int_to_string)\n",
    "print(int_to_bool)"
   ]
  },
  {
   "cell_type": "code",
   "execution_count": 34,
   "id": "ee2334f9",
   "metadata": {},
   "outputs": [
    {
     "name": "stdout",
     "output_type": "stream",
     "text": [
      "Nilai Variabel data_string= 100\n",
      "100\n",
      "100.0\n",
      "True\n"
     ]
    }
   ],
   "source": [
    "str_to_int = int(data_string)\n",
    "str_to_float = float(data_string)\n",
    "str_to_bool = bool (data_string)\n",
    "\n",
    "print(\"Nilai Variabel data_string=\",data_string)\n",
    "print(str_to_int)\n",
    "print(str_to_float)\n",
    "print(str_to_bool)"
   ]
  },
  {
   "cell_type": "code",
   "execution_count": 28,
   "id": "c9cfac81",
   "metadata": {},
   "outputs": [
    {
     "name": "stdout",
     "output_type": "stream",
     "text": [
      "Nilai variabel data_float= 10000.9\n",
      "100\n",
      "10000.9\n",
      "True\n"
     ]
    }
   ],
   "source": [
    "float_to_int =int(data_int)\n",
    "float_to_str =str(data_float)\n",
    "float_to_bool =bool(data_float)\n",
    "\n",
    "print(\"Nilai variabel data_float=\",data_float)\n",
    "print(float_to_int)\n",
    "print(float_to_str)\n",
    "print(float_to_bool)"
   ]
  },
  {
   "cell_type": "markdown",
   "id": "06a98acd",
   "metadata": {},
   "source": [
    "bool_to_int =int(data_bool)\n",
    "bool_to_str =str(data_bool)\n",
    "bool_to_float =float(data_bool)\n",
    "\n",
    "print(\"Nilai variabel data bool=\",data_bool)\n",
    "print(bool_to_int)\n",
    "print(bool_to_str)\n",
    "print(bool_to_float)\n"
   ]
  },
  {
   "cell_type": "code",
   "execution_count": 1,
   "id": "f66199a6",
   "metadata": {},
   "outputs": [
    {
     "name": "stdout",
     "output_type": "stream",
     "text": [
      "isikan bilangan 11\n",
      "isikan bilangan 22\n",
      "Hasil Penjumlahan 3\n",
      "Hasil pembagian 0.5\n"
     ]
    }
   ],
   "source": [
    "bil1 = int(input(\"isikan bilangan 1\"))\n",
    "bil2 = int(input(\"isikan bilangan 2\"))\n",
    "hasil_tambah = bil1 + bil2\n",
    "hasil_bagi = bil1 / bil2\n",
    "print(\"Hasil Penjumlahan\",hasil_tambah)\n",
    "print(\"Hasil pembagian\",hasil_bagi)\n"
   ]
  }
 ],
 "metadata": {
  "kernelspec": {
   "display_name": "Python 3 (ipykernel)",
   "language": "python",
   "name": "python3"
  },
  "language_info": {
   "codemirror_mode": {
    "name": "ipython",
    "version": 3
   },
   "file_extension": ".py",
   "mimetype": "text/x-python",
   "name": "python",
   "nbconvert_exporter": "python",
   "pygments_lexer": "ipython3",
   "version": "3.9.12"
  }
 },
 "nbformat": 4,
 "nbformat_minor": 5
}
